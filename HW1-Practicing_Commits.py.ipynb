{
 "cells": [
  {
   "cell_type": "code",
   "execution_count": null,
   "id": "a1081bc9",
   "metadata": {},
   "outputs": [],
   "source": [
    "(1+1)**2"
   ]
  },
  {
   "cell_type": "code",
   "execution_count": null,
   "id": "d5a45fd5",
   "metadata": {},
   "outputs": [],
   "source": [
    "2+2"
   ]
  },
  {
   "cell_type": "markdown",
   "id": "1fd1ebd9",
   "metadata": {},
   "source": [
    "Reasons for code difference: the code in Jupyter notebook only shows simple python code, but code in github shows JSON format code which illustrates \"cell type\",  \"an identifier for the cell\" and \"output\" etc. "
   ]
  }
 ],
 "metadata": {
  "kernelspec": {
   "display_name": "Python 3 (ipykernel)",
   "language": "python",
   "name": "python3"
  },
  "language_info": {
   "codemirror_mode": {
    "name": "ipython",
    "version": 3
   },
   "file_extension": ".py",
   "mimetype": "text/x-python",
   "name": "python",
   "nbconvert_exporter": "python",
   "pygments_lexer": "ipython3",
   "version": "3.11.5"
  }
 },
 "nbformat": 4,
 "nbformat_minor": 5
}
